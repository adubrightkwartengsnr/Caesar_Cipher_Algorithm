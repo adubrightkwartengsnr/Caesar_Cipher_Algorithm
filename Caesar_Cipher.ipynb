{
 "cells": [
  {
   "cell_type": "markdown",
   "id": "c170676e-bf60-4dc2-ac3f-6f06c5386621",
   "metadata": {},
   "source": [
    "# CAESAR CIPHER DECRYPTION ALGORITHM\n",
    "The Caesar Cipher is a simple and ancient encryption technique that is based on the idea of shifting each letter in the plaintext by a fixed number of positions down the alphabet. It is named after Julius Caesar, who is historically credited with using this method to secure his private communications.\n",
    "\n",
    "# Here are the basic steps of the Caesar Cipher algorithm:\n",
    "Key Selection: Choose a fixed number, known as the \"shift\" or \"key.\" This key determines the amount by which each letter in the plaintext is shifted.\n",
    "\n",
    "\n",
    "Decryption: To decrypt a message, use the opposite shift (subtract the key) on each letter in the ciphertext. For example, with a key of 3, 'D' would become 'A,' 'E' would become 'B,' and so on. Again, wrap around to the end of the alphabet if necessary. Alphabet Considerations:\n",
    "\n",
    "The Caesar Cipher typically operates on the letters of the alphabet and leaves non-alphabetic characters unchanged."
   ]
  },
  {
   "cell_type": "code",
   "execution_count": 5,
   "id": "c291731d-2eaf-4587-a8c4-7160b6a2a702",
   "metadata": {
    "tags": []
   },
   "outputs": [
    {
     "name": "stdout",
     "output_type": "stream",
     "text": [
      "Welcome To Caesar Cipher's Algorithm Decryptor, Do you have some messages to Decrypt?: \n",
      "Choose Between (1 or 2)\n"
     ]
    },
    {
     "name": "stdin",
     "output_type": "stream",
     "text": [
      "Please Enter 1 to Encrypt, 2 to decrypt and 3 Exit the Program 1\n"
     ]
    },
    {
     "name": "stdout",
     "output_type": "stream",
     "text": [
      "\n"
     ]
    },
    {
     "name": "stdin",
     "output_type": "stream",
     "text": [
      "Please enter plaintext (Message you want to encrypt):  the QUICK BROWN FOX JUMPS OVER THE LAZY DOG\n",
      "Please enter the encryption Key: 3\n"
     ]
    },
    {
     "name": "stdout",
     "output_type": "stream",
     "text": [
      "Your decrypted message is: QEB NRFZH YOLTK CLU GRJMP LSBO QEB IXWV ALD\n",
      "Welcome To Caesar Cipher's Algorithm Decryptor, Do you have some messages to Decrypt?: \n",
      "Choose Between (1 or 2)\n"
     ]
    },
    {
     "name": "stdin",
     "output_type": "stream",
     "text": [
      "Please Enter 1 to Encrypt, 2 to decrypt and 3 Exit the Program 2\n"
     ]
    },
    {
     "name": "stdout",
     "output_type": "stream",
     "text": [
      "\n"
     ]
    },
    {
     "name": "stdin",
     "output_type": "stream",
     "text": [
      "Please enter ciphertext (Message you want to decrypt):   QEB NRFZH YOLTK CLU GRJMP LSBO QEB IXWV ALD\n",
      "Please enter the encryption Key: 3\n"
     ]
    },
    {
     "name": "stdout",
     "output_type": "stream",
     "text": [
      "Your decrypted message is:  THE QUICK BROWN FOX JUMPS OVER THE LAZY DOG\n",
      "Welcome To Caesar Cipher's Algorithm Decryptor, Do you have some messages to Decrypt?: \n",
      "Choose Between (1 or 2)\n"
     ]
    },
    {
     "name": "stdin",
     "output_type": "stream",
     "text": [
      "Please Enter 1 to Encrypt, 2 to decrypt and 3 Exit the Program 3\n"
     ]
    },
    {
     "name": "stdout",
     "output_type": "stream",
     "text": [
      "\n",
      "Program Ended, See you some other time\n"
     ]
    }
   ],
   "source": [
    "def encryption(plaintext, key):\n",
    "    \"\"\"\n",
    "    encryption(plaintext, key)\n",
    "    printout results\n",
    "    This function takes two parameters: ciphertext and key\n",
    "    plaintext -- string of plaintext characters\n",
    "    key - the encryption_key.\n",
    "    results - string of the encrypted text \n",
    "    \"\"\"\n",
    "    result = \"\"\n",
    "    # convert text to CAPS before looping\n",
    "    for char in plaintext.upper():\n",
    "        # encrypt alphabets only\n",
    "        if char.isalpha():\n",
    "            char_code = ord(char)\n",
    "            # add character unicode to the encryption_key\n",
    "            new_position = (char_code - key - ord('A')) % 26 + ord('A')\n",
    "            encoded_char = chr(new_position)\n",
    "            result += encoded_char\n",
    "        else:\n",
    "            result += char\n",
    "    print(f\"Your decrypted message is: {result}\")\n",
    "\n",
    "def decryption(ciphertext, key):\n",
    "    \"\"\"\n",
    "    decryption(ciphertext, key)\n",
    "    This function takes two parameters: ciphertext and key\n",
    "    printout result\n",
    "    ciphertext -- string of encrypted characters\n",
    "    key - the encryption_key.\n",
    "    result - string of decrypted text\n",
    "    \"\"\"\n",
    "    result = \"\"\n",
    "    # convert text to CAPS before looping\n",
    "    for char in ciphertext.upper():\n",
    "        # decrypt alphabets only\n",
    "        if char.isalpha():\n",
    "            char_code = ord(char)\n",
    "            # add character unicode to the encryption_key\n",
    "            new_position = (char_code + key - ord('A')) % 26 + ord('A')\n",
    "            decoded_char = chr(new_position)\n",
    "            result += decoded_char\n",
    "        else:\n",
    "            result += char\n",
    "    print(f\"Your decrypted message is: {result}\")\n",
    "\n",
    "running = True\n",
    "\n",
    "while running:\n",
    "    print(\"Welcome To Caesar Cipher's Algorithm Decryptor, Do you have some messages to Decrypt?: \")\n",
    "    print(\"Choose Between (1 or 2)\")\n",
    "    choice = int(input(\"Please Enter 1 to Encrypt, 2 to decrypt and 3 Exit the Program\"))\n",
    "    print()\n",
    "\n",
    "    if choice == 1:\n",
    "        plaintext = input(\"Please enter plaintext (Message you want to encrypt): \")\n",
    "        encryption_key = int(input(\"Please enter the encryption Key:\"))\n",
    "        encryption(plaintext, encryption_key)\n",
    "    elif choice == 2:\n",
    "        ciphertext = input(\"Please enter ciphertext (Message you want to decrypt): \")\n",
    "        encryption_key = int(input(\"Please enter the encryption Key:\"))\n",
    "        decryption(ciphertext, encryption_key)\n",
    "    elif choice == 3:\n",
    "        running = False\n",
    "        print(\"Program Ended, See you some other time\")\n",
    "    else:\n",
    "        print(\"Choose between the options 1,2,3 and Try Again\")\n",
    "\n"
   ]
  },
  {
   "cell_type": "code",
   "execution_count": 15,
   "id": "5629de96-9283-4b9d-a330-540b30b662ee",
   "metadata": {
    "tags": []
   },
   "outputs": [
    {
     "name": "stdout",
     "output_type": "stream",
     "text": [
      "4\n"
     ]
    }
   ],
   "source": [
    "plaintext =\"the QUICK BROWN FOX JUMPS OVER THE LAZY DOG\"\n",
    "print(plaintext.index(\"Q\"))"
   ]
  },
  {
   "cell_type": "code",
   "execution_count": null,
   "id": "45bbb093-9bd4-478e-bec0-d5c830f4a2e8",
   "metadata": {},
   "outputs": [],
   "source": [
    "QEB NRFZH YOLTK CLU GRJMP LSBO QEB IXWV ALD"
   ]
  }
 ],
 "metadata": {
  "kernelspec": {
   "display_name": "Python 3 (ipykernel)",
   "language": "python",
   "name": "python3"
  },
  "language_info": {
   "codemirror_mode": {
    "name": "ipython",
    "version": 3
   },
   "file_extension": ".py",
   "mimetype": "text/x-python",
   "name": "python",
   "nbconvert_exporter": "python",
   "pygments_lexer": "ipython3",
   "version": "3.11.4"
  }
 },
 "nbformat": 4,
 "nbformat_minor": 5
}
